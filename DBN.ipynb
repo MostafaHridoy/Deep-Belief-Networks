{
  "nbformat": 4,
  "nbformat_minor": 0,
  "metadata": {
    "colab": {
      "provenance": []
    },
    "kernelspec": {
      "name": "python3",
      "display_name": "Python 3"
    },
    "language_info": {
      "name": "python"
    }
  },
  "cells": [
    {
      "cell_type": "code",
      "source": [
        "!git clone https://github.com/albertbup/deep-belief-network.git"
      ],
      "metadata": {
        "id": "DAaUpsX0L_eP"
      },
      "execution_count": null,
      "outputs": []
    },
    {
      "cell_type": "code",
      "source": [
        "%cd deep-belief-network"
      ],
      "metadata": {
        "id": "Zhyub8Y8MId_"
      },
      "execution_count": null,
      "outputs": []
    },
    {
      "cell_type": "code",
      "execution_count": null,
      "metadata": {
        "id": "weID87-LLEOG"
      },
      "outputs": [],
      "source": [
        "from sklearn.model_selection import train_test_split\n",
        "#from dbn.tensorflow import SupervisedDBNClassification\n",
        "from dbn import SupervisedDBNClassification\n",
        "import numpy as np\n",
        "import pandas as pd\n",
        "from sklearn.metrics import accuracy_score"
      ]
    },
    {
      "cell_type": "code",
      "source": [
        "df=pd.read_csv(\"dataset link\")"
      ],
      "metadata": {
        "id": "Iq5xiFQjMuTd"
      },
      "execution_count": null,
      "outputs": []
    },
    {
      "cell_type": "code",
      "source": [
        "df=df.drop([\"id\"],axis=1)"
      ],
      "metadata": {
        "id": "7ser0DDaARi-"
      },
      "execution_count": null,
      "outputs": []
    },
    {
      "cell_type": "code",
      "source": [
        "df.columns"
      ],
      "metadata": {
        "colab": {
          "base_uri": "https://localhost:8080/"
        },
        "id": "NfMedFvEGG6A",
        "outputId": "c7387eca-78cb-47b4-97c5-bcc518b0f0be"
      },
      "execution_count": null,
      "outputs": [
        {
          "output_type": "execute_result",
          "data": {
            "text/plain": [
              "Index(['gender', 'age', 'hypertension', 'heart_disease', 'ever_married',\n",
              "       'work_type', 'Residence_type', 'avg_glucose_level', 'bmi',\n",
              "       'smoking_status', 'stroke'],\n",
              "      dtype='object')"
            ]
          },
          "metadata": {},
          "execution_count": 6
        }
      ]
    },
    {
      "cell_type": "code",
      "source": [
        "columns=['gender', 'age', 'hypertension', 'heart_disease', 'ever_married',\n",
        "       'work_type', 'Residence_type', 'avg_glucose_level', 'bmi',\n",
        "       'smoking_status']"
      ],
      "metadata": {
        "id": "YZgOfJ43GNfP"
      },
      "execution_count": null,
      "outputs": []
    },
    {
      "cell_type": "code",
      "source": [
        "df=df.dropna()"
      ],
      "metadata": {
        "id": "DlQXT_8mNLGI"
      },
      "execution_count": null,
      "outputs": []
    },
    {
      "cell_type": "code",
      "source": [
        "df=df.drop_duplicates()"
      ],
      "metadata": {
        "id": "qNSw94K4NiNG"
      },
      "execution_count": null,
      "outputs": []
    },
    {
      "cell_type": "code",
      "source": [
        "from sklearn import preprocessing\n",
        "label_encoder = preprocessing.LabelEncoder()\n",
        "df['stroke']=label_encoder.fit_transform(df['stroke'])\n",
        "df['smoking_status']=label_encoder.fit_transform(df['smoking_status'])\n",
        "df['Residence_type']=label_encoder.fit_transform(df['Residence_type'])\n",
        "df['work_type']=label_encoder.fit_transform(df['work_type'])\n",
        "df['gender']=label_encoder.fit_transform(df['gender'])\n",
        "df['ever_married']=label_encoder.fit_transform(df['ever_married'])"
      ],
      "metadata": {
        "id": "R_Wd6Of2Nift"
      },
      "execution_count": null,
      "outputs": []
    },
    {
      "cell_type": "code",
      "source": [
        "def ReplaceOutliers(df):\n",
        "  for col in columns:\n",
        "\n",
        "      q1=df[col].quantile(0.25)\n",
        "      q3=df[col].quantile(0.75)\n",
        "      IQR=q3-q1\n",
        "      upperBound=q3+(1.5*IQR)\n",
        "      lowerBound=q1-(1.5*IQR)\n",
        "      df[col]=np.where(df[col]>upperBound,upperBound,\n",
        "         np.where(df[col]<lowerBound,lowerBound,df[col]))\n",
        "  return df"
      ],
      "metadata": {
        "id": "ewBpu4kCFoWY"
      },
      "execution_count": null,
      "outputs": []
    },
    {
      "cell_type": "code",
      "source": [
        "df=ReplaceOutliers(df)"
      ],
      "metadata": {
        "id": "sbcbQvWwFpRI"
      },
      "execution_count": null,
      "outputs": []
    },
    {
      "cell_type": "code",
      "source": [
        "df"
      ],
      "metadata": {
        "id": "fKugN605Nvl3"
      },
      "execution_count": null,
      "outputs": []
    },
    {
      "cell_type": "code",
      "source": [
        "X=df.drop('stroke',axis=1)\n",
        "Y=df['stroke']"
      ],
      "metadata": {
        "id": "ESv5cqdmQSRV"
      },
      "execution_count": null,
      "outputs": []
    },
    {
      "cell_type": "code",
      "source": [
        "X=np.array(X)\n",
        "Y=np.array(Y)"
      ],
      "metadata": {
        "id": "Aq8fZi3kQV3e"
      },
      "execution_count": null,
      "outputs": []
    },
    {
      "cell_type": "code",
      "source": [
        "X.shape"
      ],
      "metadata": {
        "id": "CVAZmP3oQdtG",
        "colab": {
          "base_uri": "https://localhost:8080/"
        },
        "outputId": "b33b23f5-3394-4681-bb4a-2b8dc4c80596"
      },
      "execution_count": null,
      "outputs": [
        {
          "output_type": "execute_result",
          "data": {
            "text/plain": [
              "(4909, 10)"
            ]
          },
          "metadata": {},
          "execution_count": 16
        }
      ]
    },
    {
      "cell_type": "code",
      "source": [
        "Y.shape"
      ],
      "metadata": {
        "colab": {
          "base_uri": "https://localhost:8080/"
        },
        "id": "ZTER-P8EQheJ",
        "outputId": "937441a2-00cd-4b9c-d8c6-782f20af3cfe"
      },
      "execution_count": null,
      "outputs": [
        {
          "output_type": "execute_result",
          "data": {
            "text/plain": [
              "(4909,)"
            ]
          },
          "metadata": {},
          "execution_count": 17
        }
      ]
    },
    {
      "cell_type": "code",
      "source": [
        "type(X)"
      ],
      "metadata": {
        "colab": {
          "base_uri": "https://localhost:8080/"
        },
        "id": "d3ZVy4UCkoaj",
        "outputId": "0df761c3-0eaf-47b3-c9cb-3d015fae17c5"
      },
      "execution_count": null,
      "outputs": [
        {
          "output_type": "execute_result",
          "data": {
            "text/plain": [
              "numpy.ndarray"
            ]
          },
          "metadata": {},
          "execution_count": 18
        }
      ]
    },
    {
      "cell_type": "code",
      "source": [
        "columns=['gender', 'age', 'hypertension', 'heart_disease', 'ever_married',\n",
        "       'work_type', 'Residence_type', 'avg_glucose_level', 'bmi',\n",
        "       'smoking_status']"
      ],
      "metadata": {
        "id": "1npRy6LSNxlu"
      },
      "execution_count": null,
      "outputs": []
    },
    {
      "cell_type": "code",
      "source": [
        "from sklearn.preprocessing import StandardScaler\n",
        "StandardScaler = StandardScaler()\n",
        "X= StandardScaler.fit_transform(X)"
      ],
      "metadata": {
        "id": "NMnHkaBcN2fY"
      },
      "execution_count": null,
      "outputs": []
    },
    {
      "cell_type": "code",
      "source": [
        "df"
      ],
      "metadata": {
        "id": "BjmrgIiRN5V2"
      },
      "execution_count": null,
      "outputs": []
    },
    {
      "cell_type": "code",
      "source": [
        "from sklearn.model_selection import train_test_split\n",
        "\n",
        "X_train, X_test,y_train, y_test=train_test_split(X,Y,test_size=0.3,random_state=42)\n",
        "\n",
        "print('X_train-', X_train.size)\n",
        "print('X_test-',X_test.size)\n",
        "print('y_train-', y_train.size)\n",
        "print('y_test-', y_test.size)"
      ],
      "metadata": {
        "colab": {
          "base_uri": "https://localhost:8080/"
        },
        "id": "_xB5uywsN_f9",
        "outputId": "40d036d1-8c97-47d4-a826-5da39b462c52"
      },
      "execution_count": null,
      "outputs": [
        {
          "output_type": "stream",
          "name": "stdout",
          "text": [
            "X_train- 34360\n",
            "X_test- 14730\n",
            "y_train- 3436\n",
            "y_test- 1473\n"
          ]
        }
      ]
    },
    {
      "cell_type": "code",
      "source": [
        "from imblearn.over_sampling import SMOTE\n",
        "sm=SMOTE(random_state=42)\n",
        "X_res,Y_res=sm.fit_resample(X_train,y_train)"
      ],
      "metadata": {
        "id": "-6NVpPYTOEhl"
      },
      "execution_count": null,
      "outputs": []
    },
    {
      "cell_type": "code",
      "source": [
        "clasifier = SupervisedDBNClassification(\n",
        "    hidden_layers_structure=[256, 256],\n",
        "    learning_rate_rbm=0.05,\n",
        "    learning_rate=0.05,\n",
        "    n_epochs_rbm=200,\n",
        "    n_iter_backprop=200,\n",
        "    batch_size=32,\n",
        "    activation_function='sigmoid',\n",
        "    dropout_p=0.2\n",
        ")\n",
        "clasifier.fit(X_res, Y_res)\n",
        "y_pred = clasifier.predict(X_test)\n",
        "print('Accuracy of Prediction: %f' % accuracy_score(y_test, y_pred))"
      ],
      "metadata": {
        "id": "FpGpzCDvOeOF"
      },
      "execution_count": null,
      "outputs": []
    },
    {
      "cell_type": "code",
      "source": [
        "from sklearn.metrics import classification_report\n",
        "print(classification_report(y_test,y_pred))"
      ],
      "metadata": {
        "id": "KOU6CNPaD_VM"
      },
      "execution_count": null,
      "outputs": []
    }
  ]
}